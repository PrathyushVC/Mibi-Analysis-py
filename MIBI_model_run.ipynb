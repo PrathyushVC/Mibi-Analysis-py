{
 "cells": [
  {
   "cell_type": "code",
   "execution_count": 1,
   "metadata": {},
   "outputs": [],
   "source": [
    "#Needed installs\n",
    "#%pip install scikit-learn"
   ]
  },
  {
   "cell_type": "code",
   "execution_count": 2,
   "metadata": {},
   "outputs": [
    {
     "name": "stdout",
     "output_type": "stream",
     "text": [
      "Is CUDA available: True\n",
      "Number of GPUs available: 1\n",
      "GPU Name: NVIDIA GeForce RTX 4090 Laptop GPU\n",
      "PyTorch built with CUDA Version: 12.4\n"
     ]
    }
   ],
   "source": [
    "import torch\n",
    "\n",
    "# Check if CUDA is available\n",
    "print(\"Is CUDA available:\", torch.cuda.is_available())\n",
    "\n",
    "# If you have multiple GPUs, check how many are available\n",
    "print(\"Number of GPUs available:\", torch.cuda.device_count())\n",
    "\n",
    "# Get the name of the current GPU device\n",
    "if torch.cuda.is_available():\n",
    "    print(\"GPU Name:\", torch.cuda.get_device_name(0))\n",
    "\n",
    "\n",
    "# Prints the CUDA version PyTorch was built with\n",
    "print(\"PyTorch built with CUDA Version:\", torch.version.cuda)"
   ]
  },
  {
   "cell_type": "code",
   "execution_count": 3,
   "metadata": {},
   "outputs": [],
   "source": [
    "import os,sys\n",
    "from torch.utils.data import DataLoader\n",
    "import torch\n",
    "\n",
    "notebook_path=os.getcwd()\n",
    "sys.path.append(os.path.abspath(os.path.join(notebook_path,'NN_Framework')))\n",
    "from NN_Framework import model_utils\n",
    "from NN_Framework.mibi_dataset import MibiDataset\n",
    "from NN_Framework.mibi_vit import ViTBinaryClassifier"
   ]
  },
  {
   "cell_type": "code",
   "execution_count": 4,
   "metadata": {},
   "outputs": [],
   "source": [
    "data_path=r'D:\\MIBI-TOFF\\Data_For_Amos'\n",
    "train_dataset=MibiDataset(hdf5_path=r'D:\\MIBI-TOFF\\Scratch\\training.h5')\n",
    "train_loader=DataLoader(dataset=train_dataset,batch_size=50,shuffle=True, num_workers=4)\n",
    "\n",
    "val_dataset=MibiDataset(hdf5_path=r'D:\\MIBI-TOFF\\Scratch\\validation.h5')\n",
    "val_loader=DataLoader(dataset=train_dataset,batch_size=50,shuffle=True, num_workers=4)\n",
    "\n",
    "val_dataset=MibiDataset(hdf5_path=r'D:\\MIBI-TOFF\\Scratch\\testing.h5')\n",
    "val_loader=DataLoader(dataset=train_dataset,batch_size=50,shuffle=True, num_workers=4)"
   ]
  },
  {
   "cell_type": "code",
   "execution_count": 8,
   "metadata": {},
   "outputs": [
    {
     "name": "stdout",
     "output_type": "stream",
     "text": [
      "True cuda:0\n",
      "cuda:0\n"
     ]
    }
   ],
   "source": [
    "dims_scaling=2\n",
    "model = ViTBinaryClassifier(\n",
    "    img_size_x=128, img_size_y=128, in_channels=39, num_classes=2, \n",
    "    patch_size_x=16, patch_size_y=16, embed_dim=768*dims_scaling, num_heads=12, \n",
    "    depth=12, mlp_dim=768*dims_scaling*4, dropout_rate=0.1, weight_decay=1e-5\n",
    ")\n",
    "criterion = torch.nn.CrossEntropyLoss()  # Define the classification criterion\n",
    "optimizer = torch.optim.AdamW(model.parameters(), lr=1e-4,weight_decay=1e-5)  # Define the optimizer\n",
    "device = torch.device(\"cuda:0\" if torch.cuda.is_available() else \"cpu\")  # Set device to GPU (0)\n",
    "model.to(device)\n",
    "print(torch.cuda.is_available(),device)\n",
    "print(next(model.parameters()).device) "
   ]
  },
  {
   "cell_type": "code",
   "execution_count": 6,
   "metadata": {},
   "outputs": [
    {
     "name": "stdout",
     "output_type": "stream",
     "text": [
      "{0: 14592, 1: 15680}\n"
     ]
    }
   ],
   "source": [
    "print(train_dataset.class_counts)"
   ]
  },
  {
   "cell_type": "code",
   "execution_count": 9,
   "metadata": {},
   "outputs": [
    {
     "name": "stderr",
     "output_type": "stream",
     "text": [
      "2024/10/23 17:05:19 INFO mlflow.tracking._tracking_service.client: 🏃 View run unequaled-turtle-915 at: http://127.0.0.1:5000/#/experiments/0/runs/9411fca2190c4628aeb6b5ef7faefe2d.\n",
      "2024/10/23 17:05:19 INFO mlflow.tracking._tracking_service.client: 🧪 View experiment at: http://127.0.0.1:5000/#/experiments/0.\n"
     ]
    }
   ],
   "source": [
    "\n",
    "import mlflow\n",
    "mlflow.end_run()\n",
    "\n",
    "model_utils.train_model(model, train_loader, val_loader, criterion, optimizer, device, location=r'D:\\MIBI-TOFF\\Scratch\\DL_Results', \n",
    "    epochs=50, patience=25, delta=0.00000001, check_val_freq=5,num_classes=2, log_with_mlflow=True,mlflow_uri=\"http://127.0.0.1:5000\")"
   ]
  }
 ],
 "metadata": {
  "kernelspec": {
   "display_name": "mibivenv",
   "language": "python",
   "name": "python3"
  },
  "language_info": {
   "codemirror_mode": {
    "name": "ipython",
    "version": 3
   },
   "file_extension": ".py",
   "mimetype": "text/x-python",
   "name": "python",
   "nbconvert_exporter": "python",
   "pygments_lexer": "ipython3",
   "version": "3.9.13"
  }
 },
 "nbformat": 4,
 "nbformat_minor": 2
}
