{
 "cells": [
  {
   "cell_type": "code",
   "execution_count": 4,
   "metadata": {},
   "outputs": [
    {
     "name": "stdout",
     "output_type": "stream",
     "text": [
      "   alias_mrn list_gender  Bin_sev_inf_co70\n",
      "0   349076.0           1               1.0\n",
      "1   349077.0           1               0.0\n",
      "2   349079.0           2               0.0\n",
      "3   349081.0           1               0.0\n",
      "4   349082.0           2               1.0\n",
      "   alias_mrn_training\n",
      "0              349076\n",
      "1              349085\n",
      "2              349086\n",
      "3              349089\n",
      "4              349094\n"
     ]
    }
   ],
   "source": [
    "import pandas as pd\n",
    "\n",
    "# Load the first sheet with three columns\n",
    "df_main = pd.read_excel(r'C:\\Users\\chirr\\OneDrive\\Documents\\Inflammation_data.xlsx', sheet_name='Sheet1')\n",
    "print(df_main.head(5))\n",
    "\n",
    "# Load the second sheet with one column\n",
    "df_filter = pd.read_excel(r'C:\\Users\\chirr\\OneDrive\\Documents\\Inflammation_data.xlsx', sheet_name='Sheet2')\n",
    "print(df_filter.head(5))\n",
    "\n"
   ]
  },
  {
   "cell_type": "code",
   "execution_count": 5,
   "metadata": {},
   "outputs": [],
   "source": [
    "# Merge the two dataframes on the column you want to match\n",
    "df_merged = pd.merge(df_main, df_filter, how='inner', left_on='alias_mrn', right_on='alias_mrn_training')\n",
    "\n",
    "# Save the result to a new Excel workbook or modify df_main in-place\n",
    "df_merged.to_excel('output_workbook.xlsx', sheet_name='Filtered_Data', index=False)"
   ]
  }
 ],
 "metadata": {
  "kernelspec": {
   "display_name": "myenv",
   "language": "python",
   "name": "python3"
  },
  "language_info": {
   "codemirror_mode": {
    "name": "ipython",
    "version": 3
   },
   "file_extension": ".py",
   "mimetype": "text/x-python",
   "name": "python",
   "nbconvert_exporter": "python",
   "pygments_lexer": "ipython3",
   "version": "3.9.13"
  }
 },
 "nbformat": 4,
 "nbformat_minor": 2
}
