{
 "cells": [
  {
   "cell_type": "code",
   "execution_count": 1,
   "metadata": {},
   "outputs": [],
   "source": [
    "#Needed installs\n",
    "#%pip install scikit-learn"
   ]
  },
  {
   "cell_type": "code",
   "execution_count": 2,
   "metadata": {},
   "outputs": [],
   "source": [
    "import polars as pl\n",
    "from mibi_dataset import MibiDataset\n",
    "from sklearn.model_selection import train_test_split,GroupShuffleSplit\n",
    "from torchvision import transforms\n",
    "import matplotlib.pyplot as plt\n",
    "import numpy as np\n",
    "import torch\n"
   ]
  },
  {
   "cell_type": "code",
   "execution_count": 3,
   "metadata": {},
   "outputs": [
    {
     "name": "stdout",
     "output_type": "stream",
     "text": [
      "['Unnamed: 0', 'cell_size', '128Te', '129Xe', '12C', '130Xe', '131Xe', '132Xe', '137Ba', '138Ba', '139La', '140Ce', '181Ta', '182Empty', '197Au', '23Na', '24Mg', '25Mg', '27Al', '28Si', '31P', '32Si', '39K', '40Ca', '41K', '56Fe', '64Zn', '66Zn', 'Alexa Fluor 488', 'Bax', 'CCR7', 'CD11c', 'CD14', 'CD163', 'CD20', 'CD206', 'CD21', 'CD3', 'CD31', 'CD4', 'CD45', 'CD45RA', 'CD45RO', 'CD56', 'CD68', 'CD69', 'CD8', 'COL1A1', 'DC-SIGN', 'Foxp3', 'Granzyme B', 'HLA-DR-DP-DQ', 'HLA-class-1-A-B-C', 'IDO-1', 'Ki67', 'LAG-3', 'MECA-79', 'MelanA', 'PD-1', 'S100A9-Calprotectin', 'SMA', 'SOX10', 'TCF1TCF7', 'TIM-3', 'Tox-Tox2', 'anti-Biotin', 'dsDNA', 'label', 'area', 'eccentricity', 'major_axis_length', 'minor_axis_length', 'perimeter', 'convex_area', 'equivalent_diameter', 'centroid-0', 'centroid-1', 'major_minor_axis_ratio', 'perim_square_over_area', 'major_axis_equiv_diam_ratio', 'convex_hull_resid', 'centroid_dif', 'num_concavities', 'fov', 'pred', 'pred_prob', 'class', 'score', 'spatial', 'Group', 'patient number']\n",
      "shape: (5, 5)\n",
      "┌───────┬────────┬────────────────────┬───────┬────────────────┐\n",
      "│ label ┆ fov    ┆ pred               ┆ Group ┆ patient number │\n",
      "│ ---   ┆ ---    ┆ ---                ┆ ---   ┆ ---            │\n",
      "│ f64   ┆ str    ┆ str                ┆ str   ┆ i64            │\n",
      "╞═══════╪════════╪════════════════════╪═══════╪════════════════╡\n",
      "│ 1.0   ┆ FOV356 ┆ CD4 APC            ┆ G4    ┆ 118            │\n",
      "│ 1.0   ┆ FOV400 ┆ CD4 APC            ┆ G4    ┆ 94             │\n",
      "│ 1.0   ┆ FOV142 ┆ CD4 APC            ┆ G2    ┆ 45             │\n",
      "│ 1.0   ┆ FOV258 ┆ Memory_CD4_T_Cells ┆ G2    ┆ 52             │\n",
      "│ 1.0   ┆ FOV178 ┆ Collagen           ┆ G4    ┆ 90             │\n",
      "└───────┴────────┴────────────────────┴───────┴────────────────┘\n"
     ]
    }
   ],
   "source": [
    "full_cell_sheet=pl.read_csv(r\"D:\\MIBI-TOFF\\Data_For_Amos\\cleaned_expression_with_both_classification_prob_spatial_30_08_24.csv\")\n",
    "print(full_cell_sheet.columns)\n",
    "cell_frame = full_cell_sheet[['label', 'fov','pred','Group','patient number']]\n",
    "unique_fovs = cell_frame.unique(subset='fov')\n",
    "print(unique_fovs.head(5))\n"
   ]
  },
  {
   "cell_type": "code",
   "execution_count": 4,
   "metadata": {},
   "outputs": [
    {
     "name": "stdout",
     "output_type": "stream",
     "text": [
      "Training Set:\n",
      "shape: (5, 5)\n",
      "┌───────┬────────┬───────────────┬───────┬────────────────┐\n",
      "│ label ┆ fov    ┆ pred          ┆ Group ┆ patient number │\n",
      "│ ---   ┆ ---    ┆ ---           ┆ ---   ┆ ---            │\n",
      "│ f64   ┆ str    ┆ str           ┆ str   ┆ i64            │\n",
      "╞═══════╪════════╪═══════════════╪═══════╪════════════════╡\n",
      "│ 1.0   ┆ FOV356 ┆ CD4 APC       ┆ G4    ┆ 118            │\n",
      "│ 1.0   ┆ FOV400 ┆ CD4 APC       ┆ G4    ┆ 94             │\n",
      "│ 1.0   ┆ FOV142 ┆ CD4 APC       ┆ G2    ┆ 45             │\n",
      "│ 1.0   ┆ FOV178 ┆ Collagen      ┆ G4    ┆ 90             │\n",
      "│ 1.0   ┆ FOV64  ┆ blood vessels ┆ G3    ┆ 82             │\n",
      "└───────┴────────┴───────────────┴───────┴────────────────┘\n",
      "\n",
      "Validation Set:\n",
      "shape: (5, 5)\n",
      "┌───────┬────────┬────────────────────┬───────┬────────────────┐\n",
      "│ label ┆ fov    ┆ pred               ┆ Group ┆ patient number │\n",
      "│ ---   ┆ ---    ┆ ---                ┆ ---   ┆ ---            │\n",
      "│ f64   ┆ str    ┆ str                ┆ str   ┆ i64            │\n",
      "╞═══════╪════════╪════════════════════╪═══════╪════════════════╡\n",
      "│ 1.0   ┆ FOV258 ┆ Memory_CD4_T_Cells ┆ G2    ┆ 52             │\n",
      "│ 1.0   ┆ FOV56  ┆ CD8 T cell         ┆ G3    ┆ 74             │\n",
      "│ 1.0   ┆ FOV164 ┆ Collagen_sma       ┆ G3    ┆ 87             │\n",
      "│ 1.0   ┆ FOV16  ┆ B cell             ┆ G1    ┆ 4              │\n",
      "│ 1.0   ┆ FOV168 ┆ B cell             ┆ G3    ┆ 89             │\n",
      "└───────┴────────┴────────────────────┴───────┴────────────────┘\n"
     ]
    }
   ],
   "source": [
    "splitter=GroupShuffleSplit(n_splits=1, test_size=0.25, random_state=1995)\n",
    "for train_idx, val_idx in splitter.split(unique_fovs, groups=unique_fovs['patient number']):\n",
    "    train_data = unique_fovs[train_idx]\n",
    "    val_data = unique_fovs[val_idx]\n",
    "    print(\"Training Set:\")\n",
    "    print(train_data.head(5))\n",
    "    print(\"\\nValidation Set:\")\n",
    "    print(val_data.head(5))"
   ]
  },
  {
   "cell_type": "code",
   "execution_count": 31,
   "metadata": {},
   "outputs": [],
   "source": [
    "import os\n",
    "root_dir=data_path=r'D:\\MIBI-TOFF\\Data_For_Amos'\n",
    "df=unique_fovs\n",
    "prefix='FOV'\n",
    "fov_col='fov'\n",
    "label_col='Group'\n",
    "image_paths=[]\n",
    "\n",
    "# The loop moves through the predefined file structure of the MIBI dataset being used to identify relevent image samples while filtering out files that we do not want\n",
    "#Theoretically provides 39 expressions but some patients have varying amounts\n",
    "for fov_dir in os.listdir(root_dir):\n",
    "            if fov_dir.startswith(prefix):#replace with Pathlib matching later\n",
    "                fov_path = os.path.join(root_dir, fov_dir)\n",
    "                \n",
    "                if os.path.isdir(fov_path):\n",
    "                    #print(fov_dir)\n",
    "                    # check if the folder name exists in the \"FOV\" column of the DataFrame\n",
    "                    group = df.filter(pl.col(fov_col) == fov_dir)  #why oh why did I decide to decide to use polars instead of pandas for this test?\n",
    "                    if group.height>0:\n",
    "                        # pull the matching data from the \"group\" column\n",
    "                        \n",
    "                        group_data = group[label_col].to_list()[0]  \n",
    "                        #print(group_data,binarized_data)\n",
    "                        tif_path = os.path.join(fov_path, 'TIFs')\n",
    "                        if os.path.exists(tif_path):\n",
    "                            # Load all .tiff files ignoring those with \"segmentation in the name\"\n",
    "                            sublist=[]\n",
    "                            for image_file in os.listdir(tif_path):\n",
    "                                if (image_file.endswith('.tif') or image_file.endswith('.tiff')) and ('segmentation' not in image_file) and not (image_file[0].isdigit()):\n",
    "                                    sublist.append(os.path.join(tif_path, image_file))\n",
    "                            \n",
    "\n",
    "                            sublist.sort()#Should normalize the data assuming the data format is maintained true for this dataset \n",
    "                            #should create a perminant mapping\n",
    "                            image_paths.append(sublist)\n",
    "                        num_sublists = len(sublist)\n",
    "\n"
   ]
  },
  {
   "cell_type": "code",
   "execution_count": 32,
   "metadata": {},
   "outputs": [
    {
     "name": "stdout",
     "output_type": "stream",
     "text": [
      "{'Alexa Fluor 488.tif': 177, 'Bax.tif': 177, 'CCR7.tif': 177, 'CD11c.tif': 177, 'CD14.tif': 177, 'CD163.tif': 177, 'CD20.tif': 177, 'CD206.tif': 177, 'CD21.tif': 177, 'CD3.tif': 177, 'CD31.tif': 177, 'CD4.tif': 177, 'CD45.tif': 177, 'CD45RA.tif': 177, 'CD45RO.tif': 177, 'CD56.tif': 177, 'CD68.tif': 177, 'CD69.tif': 177, 'CD8.tif': 177, 'COL1A1.tif': 177, 'DC-SIGN.tif': 177, 'Foxp3.tif': 177, 'Granzyme B.tif': 177, 'HLA-DR-DP-DQ.tif': 177, 'HLA-class-1-A-B-C.tif': 177, 'IDO-1.tif': 177, 'Ki67.tif': 177, 'LAG-3.tif': 177, 'MECA-79.tif': 177, 'MelanA.tif': 177, 'PD-1.tif': 177, 'S100A9-Calprotectin.tif': 177, 'SMA.tif': 177, 'SOX10.tif': 177, 'TCF1TCF7.tif': 177, 'TIM-3.tif': 177, 'Tox-Tox2.tif': 177, 'anti-Biotin.tif': 177, 'dsDNA.tif': 177, 'dsDNA-enhanced.tif': 9, 'dsDNA_cont.tif': 6, 'mask_fov_164.tif': 1, 'CD4_smooth.tif': 3, 'Foxp3_smooth.tif': 1, 'CD14_smooth.tif': 1, 'CD31_smooth.tif': 1, 'CD8_smooth.tif': 2, 'MelanA_enhanced.tif': 1, 'MelanA_smooth.tif': 1, 'S100A9-Calprotectin_smooth.tif': 1, 'dsDNA_smooth.tif': 3, 'dsDNA_enhanced.tif': 2, 'CD20_Smooth.tif': 1, 'CD20_gaussian.tif': 1, 'CD3_gaussian.tif': 1, 'CD3_smooth.tif': 1, 'CD4_gaussian.tif': 1, 'SOX10_gaussian.tif': 1, 'SOX10_smooth.tif': 1, 'CD163_gaussian_2.tif': 1, 'CD163_smooth.tif': 1, 'CD8_gaussian.tif': 1, 'Stack.tif': 1}\n"
     ]
    }
   ],
   "source": [
    "#Find the expressions that are not in every file should be equal to the number of fovs 177 in this sample\n",
    "expressions={}\n",
    "for fov in image_paths:\n",
    "    for path in fov:\n",
    "        filename = os.path.basename(path)\n",
    "        if filename not in expressions:\n",
    "            expressions[filename]=1\n",
    "        else:\n",
    "            expressions[filename]+=1\n",
    "print(expressions)\n"
   ]
  },
  {
   "cell_type": "code",
   "execution_count": 33,
   "metadata": {},
   "outputs": [
    {
     "name": "stdout",
     "output_type": "stream",
     "text": [
      "39\n",
      "['Alexa Fluor 488.tif', 'Bax.tif', 'CCR7.tif', 'CD11c.tif', 'CD14.tif', 'CD163.tif', 'CD20.tif', 'CD206.tif', 'CD21.tif', 'CD3.tif', 'CD31.tif', 'CD4.tif', 'CD45.tif', 'CD45RA.tif', 'CD45RO.tif', 'CD56.tif', 'CD68.tif', 'CD69.tif', 'CD8.tif', 'COL1A1.tif', 'DC-SIGN.tif', 'Foxp3.tif', 'Granzyme B.tif', 'HLA-DR-DP-DQ.tif', 'HLA-class-1-A-B-C.tif', 'IDO-1.tif', 'Ki67.tif', 'LAG-3.tif', 'MECA-79.tif', 'MelanA.tif', 'PD-1.tif', 'S100A9-Calprotectin.tif', 'SMA.tif', 'SOX10.tif', 'TCF1TCF7.tif', 'TIM-3.tif', 'Tox-Tox2.tif', 'anti-Biotin.tif', 'dsDNA.tif']\n"
     ]
    }
   ],
   "source": [
    "threshold=117\n",
    "consistent_expressions=[key for key, value in expressions.items() if value > threshold]\n",
    "#I have no idea why > is needed to make this work\n",
    "print(len(consistent_expressions))\n",
    "print(consistent_expressions)"
   ]
  },
  {
   "cell_type": "code",
   "execution_count": 34,
   "metadata": {},
   "outputs": [],
   "source": [
    "image_paths=[]\n",
    "for fov_dir in os.listdir(root_dir):\n",
    "            if fov_dir.startswith(prefix):#replace with Pathlib matching later\n",
    "                fov_path = os.path.join(root_dir, fov_dir)\n",
    "                \n",
    "                if os.path.isdir(fov_path):\n",
    "                    #print(fov_dir)\n",
    "                    # check if the folder name exists in the \"FOV\" column of the DataFrame\n",
    "                    group = df.filter(pl.col(fov_col) == fov_dir)  #why oh why did I decide to decide to use polars instead of pandas for this test?\n",
    "                    if group.height>0:\n",
    "                        # pull the matching data from the \"group\" column\n",
    "                        \n",
    "                        group_data = group[label_col].to_list()[0]  \n",
    "                        #print(group_data,binarized_data)\n",
    "                        tif_path = os.path.join(fov_path, 'TIFs')\n",
    "                        if os.path.exists(tif_path):\n",
    "                            # Load all .tiff files ignoring those with \"segmentation in the name\"\n",
    "                            sublist=[]\n",
    "                            for image_file in os.listdir(tif_path):\n",
    "                                if consistent_expressions:# this is a list of expression names we want to make sure are in the dataset. \n",
    "                                    if image_file in consistent_expressions:\n",
    "                                        sublist.append(os.path.join(tif_path, image_file))\n",
    "\n",
    "                            sublist.sort()#Should normalize the data assuming the data format is maintained true for this dataset \n",
    "                            #should create a perminant mapping\n",
    "                            image_paths.append(sublist)\n",
    "                        num_sublists = len(sublist)\n",
    "\n"
   ]
  },
  {
   "cell_type": "code",
   "execution_count": 35,
   "metadata": {},
   "outputs": [
    {
     "name": "stdout",
     "output_type": "stream",
     "text": [
      "{'Alexa Fluor 488.tif': 177, 'Bax.tif': 177, 'CCR7.tif': 177, 'CD11c.tif': 177, 'CD14.tif': 177, 'CD163.tif': 177, 'CD20.tif': 177, 'CD206.tif': 177, 'CD21.tif': 177, 'CD3.tif': 177, 'CD31.tif': 177, 'CD4.tif': 177, 'CD45.tif': 177, 'CD45RA.tif': 177, 'CD45RO.tif': 177, 'CD56.tif': 177, 'CD68.tif': 177, 'CD69.tif': 177, 'CD8.tif': 177, 'COL1A1.tif': 177, 'DC-SIGN.tif': 177, 'Foxp3.tif': 177, 'Granzyme B.tif': 177, 'HLA-DR-DP-DQ.tif': 177, 'HLA-class-1-A-B-C.tif': 177, 'IDO-1.tif': 177, 'Ki67.tif': 177, 'LAG-3.tif': 177, 'MECA-79.tif': 177, 'MelanA.tif': 177, 'PD-1.tif': 177, 'S100A9-Calprotectin.tif': 177, 'SMA.tif': 177, 'SOX10.tif': 177, 'TCF1TCF7.tif': 177, 'TIM-3.tif': 177, 'Tox-Tox2.tif': 177, 'anti-Biotin.tif': 177, 'dsDNA.tif': 177}\n"
     ]
    }
   ],
   "source": [
    "expressions_test={}\n",
    "for fov in image_paths:\n",
    "    for path in fov:\n",
    "        filename = os.path.basename(path)\n",
    "        if filename not in expressions_test:\n",
    "            expressions_test[filename]=1\n",
    "        else:\n",
    "            expressions_test[filename]+=1\n",
    "print(expressions_test)\n"
   ]
  },
  {
   "cell_type": "code",
   "execution_count": 16,
   "metadata": {},
   "outputs": [],
   "source": [
    "import importlib\n",
    "import model_utils\n",
    "from mibi_dataset import MibiDataset\n",
    "from torch.utils.data import DataLoader\n",
    "\n",
    "\n",
    "data_path=r'D:\\MIBI-TOFF\\Data_For_Amos'\n",
    "train_dataset=MibiDataset(root_dir=data_path,df=train_data,prefix='FOV',fov_col='fov',label_col='Group', transform=None)\n",
    "train_loader=DataLoader(dataset=train_dataset,batch_size=1,shuffle=True)\n",
    "\n",
    "val_dataset=MibiDataset(root_dir=data_path,df=val_data,prefix='FOV',fov_col='fov',label_col='Group', transform=None)\n",
    "val_loader=DataLoader(dataset=train_dataset,batch_size=1,shuffle=True)"
   ]
  },
  {
   "cell_type": "code",
   "execution_count": 43,
   "metadata": {},
   "outputs": [
    {
     "name": "stdout",
     "output_type": "stream",
     "text": [
      "25.0\n"
     ]
    }
   ],
   "source": [
    "print(600/24)\n"
   ]
  },
  {
   "cell_type": "code",
   "execution_count": 17,
   "metadata": {},
   "outputs": [
    {
     "name": "stderr",
     "output_type": "stream",
     "text": [
      "d:\\MIBI-TOFF\\mibivenv\\lib\\site-packages\\torch\\nn\\modules\\transformer.py:307: UserWarning: enable_nested_tensor is True, but self.use_nested_tensor is False because encoder_layer.self_attn.batch_first was not True(use batch_first for better inference performance)\n",
      "  warnings.warn(f\"enable_nested_tensor is True, but self.use_nested_tensor is False because {why_not_sparsity_fast_path}\")\n"
     ]
    },
    {
     "name": "stdout",
     "output_type": "stream",
     "text": [
      "tensor([0])\n",
      "('D:\\\\MIBI-TOFF\\\\Data_For_Amos\\\\FOV274\\\\TIFs\\\\Alexa Fluor 488.tif',)\n",
      "tensor([1])\n",
      "('D:\\\\MIBI-TOFF\\\\Data_For_Amos\\\\FOV354\\\\TIFs\\\\Alexa Fluor 488.tif',)\n",
      "tensor([0])\n",
      "('D:\\\\MIBI-TOFF\\\\Data_For_Amos\\\\FOV304\\\\TIFs\\\\Alexa Fluor 488.tif',)\n",
      "tensor([0])\n",
      "('D:\\\\MIBI-TOFF\\\\Data_For_Amos\\\\FOV392\\\\TIFs\\\\Alexa Fluor 488.tif',)\n",
      "tensor([1])\n",
      "('D:\\\\MIBI-TOFF\\\\Data_For_Amos\\\\FOV412\\\\TIFs\\\\Alexa Fluor 488.tif',)\n"
     ]
    },
    {
     "ename": "RuntimeError",
     "evalue": "Given groups=1, weight of size [768, 39, 16, 16], expected input[1, 40, 128, 128] to have 39 channels, but got 40 channels instead",
     "output_type": "error",
     "traceback": [
      "\u001b[1;31m---------------------------------------------------------------------------\u001b[0m",
      "\u001b[1;31mRuntimeError\u001b[0m                              Traceback (most recent call last)",
      "Cell \u001b[1;32mIn[17], line 8\u001b[0m\n\u001b[0;32m      5\u001b[0m optimizer \u001b[38;5;241m=\u001b[39m torch\u001b[38;5;241m.\u001b[39moptim\u001b[38;5;241m.\u001b[39mAdam(model\u001b[38;5;241m.\u001b[39mparameters(), lr\u001b[38;5;241m=\u001b[39m\u001b[38;5;241m0.001\u001b[39m)  \u001b[38;5;66;03m# Define the optimizer\u001b[39;00m\n\u001b[0;32m      6\u001b[0m device \u001b[38;5;241m=\u001b[39m torch\u001b[38;5;241m.\u001b[39mdevice(\u001b[38;5;124m\"\u001b[39m\u001b[38;5;124mcuda:0\u001b[39m\u001b[38;5;124m\"\u001b[39m \u001b[38;5;28;01mif\u001b[39;00m torch\u001b[38;5;241m.\u001b[39mcuda\u001b[38;5;241m.\u001b[39mis_available() \u001b[38;5;28;01melse\u001b[39;00m \u001b[38;5;124m\"\u001b[39m\u001b[38;5;124mcpu\u001b[39m\u001b[38;5;124m\"\u001b[39m)  \u001b[38;5;66;03m# Set device to GPU (0)\u001b[39;00m\n\u001b[1;32m----> 8\u001b[0m \u001b[43mmodel_utils\u001b[49m\u001b[38;5;241;43m.\u001b[39;49m\u001b[43mtrain_model\u001b[49m\u001b[43m(\u001b[49m\u001b[43mmodel\u001b[49m\u001b[43m,\u001b[49m\u001b[43m \u001b[49m\u001b[43mtrain_loader\u001b[49m\u001b[43m,\u001b[49m\u001b[43m \u001b[49m\u001b[43mval_loader\u001b[49m\u001b[43m,\u001b[49m\u001b[43m \u001b[49m\u001b[43mcriterion\u001b[49m\u001b[43m,\u001b[49m\u001b[43m \u001b[49m\u001b[43moptimizer\u001b[49m\u001b[43m,\u001b[49m\u001b[43m \u001b[49m\u001b[43mdevice\u001b[49m\u001b[43m,\u001b[49m\u001b[43m \u001b[49m\u001b[43mepochs\u001b[49m\u001b[38;5;241;43m=\u001b[39;49m\u001b[38;5;241;43m5\u001b[39;49m\u001b[43m)\u001b[49m\n",
      "File \u001b[1;32md:\\MIBI-TOFF\\scripts\\Mibi-Analysis-py\\ImageProcessing\\model_utils.py:27\u001b[0m, in \u001b[0;36mtrain_model\u001b[1;34m(model, train_loader, val_loader, criterion, optimizer, device, epochs, check_val_freq)\u001b[0m\n\u001b[0;32m     25\u001b[0m patch \u001b[38;5;241m=\u001b[39m patches\u001b[38;5;241m.\u001b[39mto(device)\u001b[38;5;241m.\u001b[39mfloat()\n\u001b[0;32m     26\u001b[0m optimizer\u001b[38;5;241m.\u001b[39mzero_grad()\n\u001b[1;32m---> 27\u001b[0m outputs \u001b[38;5;241m=\u001b[39m \u001b[43mmodel\u001b[49m\u001b[43m(\u001b[49m\u001b[43mpatch\u001b[49m\u001b[43m)\u001b[49m\n\u001b[0;32m     28\u001b[0m loss \u001b[38;5;241m=\u001b[39m criterion(outputs, labels)\n\u001b[0;32m     29\u001b[0m loss\u001b[38;5;241m.\u001b[39mbackward()\n",
      "File \u001b[1;32md:\\MIBI-TOFF\\mibivenv\\lib\\site-packages\\torch\\nn\\modules\\module.py:1553\u001b[0m, in \u001b[0;36mModule._wrapped_call_impl\u001b[1;34m(self, *args, **kwargs)\u001b[0m\n\u001b[0;32m   1551\u001b[0m     \u001b[38;5;28;01mreturn\u001b[39;00m \u001b[38;5;28mself\u001b[39m\u001b[38;5;241m.\u001b[39m_compiled_call_impl(\u001b[38;5;241m*\u001b[39margs, \u001b[38;5;241m*\u001b[39m\u001b[38;5;241m*\u001b[39mkwargs)  \u001b[38;5;66;03m# type: ignore[misc]\u001b[39;00m\n\u001b[0;32m   1552\u001b[0m \u001b[38;5;28;01melse\u001b[39;00m:\n\u001b[1;32m-> 1553\u001b[0m     \u001b[38;5;28;01mreturn\u001b[39;00m \u001b[38;5;28mself\u001b[39m\u001b[38;5;241m.\u001b[39m_call_impl(\u001b[38;5;241m*\u001b[39margs, \u001b[38;5;241m*\u001b[39m\u001b[38;5;241m*\u001b[39mkwargs)\n",
      "File \u001b[1;32md:\\MIBI-TOFF\\mibivenv\\lib\\site-packages\\torch\\nn\\modules\\module.py:1562\u001b[0m, in \u001b[0;36mModule._call_impl\u001b[1;34m(self, *args, **kwargs)\u001b[0m\n\u001b[0;32m   1557\u001b[0m \u001b[38;5;66;03m# If we don't have any hooks, we want to skip the rest of the logic in\u001b[39;00m\n\u001b[0;32m   1558\u001b[0m \u001b[38;5;66;03m# this function, and just call forward.\u001b[39;00m\n\u001b[0;32m   1559\u001b[0m \u001b[38;5;28;01mif\u001b[39;00m \u001b[38;5;129;01mnot\u001b[39;00m (\u001b[38;5;28mself\u001b[39m\u001b[38;5;241m.\u001b[39m_backward_hooks \u001b[38;5;129;01mor\u001b[39;00m \u001b[38;5;28mself\u001b[39m\u001b[38;5;241m.\u001b[39m_backward_pre_hooks \u001b[38;5;129;01mor\u001b[39;00m \u001b[38;5;28mself\u001b[39m\u001b[38;5;241m.\u001b[39m_forward_hooks \u001b[38;5;129;01mor\u001b[39;00m \u001b[38;5;28mself\u001b[39m\u001b[38;5;241m.\u001b[39m_forward_pre_hooks\n\u001b[0;32m   1560\u001b[0m         \u001b[38;5;129;01mor\u001b[39;00m _global_backward_pre_hooks \u001b[38;5;129;01mor\u001b[39;00m _global_backward_hooks\n\u001b[0;32m   1561\u001b[0m         \u001b[38;5;129;01mor\u001b[39;00m _global_forward_hooks \u001b[38;5;129;01mor\u001b[39;00m _global_forward_pre_hooks):\n\u001b[1;32m-> 1562\u001b[0m     \u001b[38;5;28;01mreturn\u001b[39;00m forward_call(\u001b[38;5;241m*\u001b[39margs, \u001b[38;5;241m*\u001b[39m\u001b[38;5;241m*\u001b[39mkwargs)\n\u001b[0;32m   1564\u001b[0m \u001b[38;5;28;01mtry\u001b[39;00m:\n\u001b[0;32m   1565\u001b[0m     result \u001b[38;5;241m=\u001b[39m \u001b[38;5;28;01mNone\u001b[39;00m\n",
      "File \u001b[1;32md:\\MIBI-TOFF\\scripts\\Mibi-Analysis-py\\ImageProcessing\\mibi_vit.py:24\u001b[0m, in \u001b[0;36mViTBinaryClassifier.forward\u001b[1;34m(self, x)\u001b[0m\n\u001b[0;32m     22\u001b[0m \u001b[38;5;28;01mdef\u001b[39;00m \u001b[38;5;21mforward\u001b[39m(\u001b[38;5;28mself\u001b[39m, x):\n\u001b[0;32m     23\u001b[0m     \u001b[38;5;66;03m# Input: (batch_size * patches_per_image, in_channels, patch_size_x, patch_size_y)\u001b[39;00m\n\u001b[1;32m---> 24\u001b[0m     x \u001b[38;5;241m=\u001b[39m \u001b[38;5;28;43mself\u001b[39;49m\u001b[38;5;241;43m.\u001b[39;49m\u001b[43mpatch_embed\u001b[49m\u001b[43m(\u001b[49m\u001b[43mx\u001b[49m\u001b[43m)\u001b[49m  \u001b[38;5;66;03m# (batch_size * patches_per_image, embed_dim, num_patches_x, num_patches_y)\u001b[39;00m\n\u001b[0;32m     25\u001b[0m     x \u001b[38;5;241m=\u001b[39m x\u001b[38;5;241m.\u001b[39mflatten(\u001b[38;5;241m2\u001b[39m)\u001b[38;5;241m.\u001b[39mtranspose(\u001b[38;5;241m1\u001b[39m, \u001b[38;5;241m2\u001b[39m)  \u001b[38;5;66;03m# (batch_size * patches_per_image, num_patches, embed_dim)\u001b[39;00m\n\u001b[0;32m     27\u001b[0m     \u001b[38;5;66;03m# Add class token and positional embedding\u001b[39;00m\n",
      "File \u001b[1;32md:\\MIBI-TOFF\\mibivenv\\lib\\site-packages\\torch\\nn\\modules\\module.py:1553\u001b[0m, in \u001b[0;36mModule._wrapped_call_impl\u001b[1;34m(self, *args, **kwargs)\u001b[0m\n\u001b[0;32m   1551\u001b[0m     \u001b[38;5;28;01mreturn\u001b[39;00m \u001b[38;5;28mself\u001b[39m\u001b[38;5;241m.\u001b[39m_compiled_call_impl(\u001b[38;5;241m*\u001b[39margs, \u001b[38;5;241m*\u001b[39m\u001b[38;5;241m*\u001b[39mkwargs)  \u001b[38;5;66;03m# type: ignore[misc]\u001b[39;00m\n\u001b[0;32m   1552\u001b[0m \u001b[38;5;28;01melse\u001b[39;00m:\n\u001b[1;32m-> 1553\u001b[0m     \u001b[38;5;28;01mreturn\u001b[39;00m \u001b[38;5;28mself\u001b[39m\u001b[38;5;241m.\u001b[39m_call_impl(\u001b[38;5;241m*\u001b[39margs, \u001b[38;5;241m*\u001b[39m\u001b[38;5;241m*\u001b[39mkwargs)\n",
      "File \u001b[1;32md:\\MIBI-TOFF\\mibivenv\\lib\\site-packages\\torch\\nn\\modules\\module.py:1562\u001b[0m, in \u001b[0;36mModule._call_impl\u001b[1;34m(self, *args, **kwargs)\u001b[0m\n\u001b[0;32m   1557\u001b[0m \u001b[38;5;66;03m# If we don't have any hooks, we want to skip the rest of the logic in\u001b[39;00m\n\u001b[0;32m   1558\u001b[0m \u001b[38;5;66;03m# this function, and just call forward.\u001b[39;00m\n\u001b[0;32m   1559\u001b[0m \u001b[38;5;28;01mif\u001b[39;00m \u001b[38;5;129;01mnot\u001b[39;00m (\u001b[38;5;28mself\u001b[39m\u001b[38;5;241m.\u001b[39m_backward_hooks \u001b[38;5;129;01mor\u001b[39;00m \u001b[38;5;28mself\u001b[39m\u001b[38;5;241m.\u001b[39m_backward_pre_hooks \u001b[38;5;129;01mor\u001b[39;00m \u001b[38;5;28mself\u001b[39m\u001b[38;5;241m.\u001b[39m_forward_hooks \u001b[38;5;129;01mor\u001b[39;00m \u001b[38;5;28mself\u001b[39m\u001b[38;5;241m.\u001b[39m_forward_pre_hooks\n\u001b[0;32m   1560\u001b[0m         \u001b[38;5;129;01mor\u001b[39;00m _global_backward_pre_hooks \u001b[38;5;129;01mor\u001b[39;00m _global_backward_hooks\n\u001b[0;32m   1561\u001b[0m         \u001b[38;5;129;01mor\u001b[39;00m _global_forward_hooks \u001b[38;5;129;01mor\u001b[39;00m _global_forward_pre_hooks):\n\u001b[1;32m-> 1562\u001b[0m     \u001b[38;5;28;01mreturn\u001b[39;00m forward_call(\u001b[38;5;241m*\u001b[39margs, \u001b[38;5;241m*\u001b[39m\u001b[38;5;241m*\u001b[39mkwargs)\n\u001b[0;32m   1564\u001b[0m \u001b[38;5;28;01mtry\u001b[39;00m:\n\u001b[0;32m   1565\u001b[0m     result \u001b[38;5;241m=\u001b[39m \u001b[38;5;28;01mNone\u001b[39;00m\n",
      "File \u001b[1;32md:\\MIBI-TOFF\\mibivenv\\lib\\site-packages\\torch\\nn\\modules\\conv.py:458\u001b[0m, in \u001b[0;36mConv2d.forward\u001b[1;34m(self, input)\u001b[0m\n\u001b[0;32m    457\u001b[0m \u001b[38;5;28;01mdef\u001b[39;00m \u001b[38;5;21mforward\u001b[39m(\u001b[38;5;28mself\u001b[39m, \u001b[38;5;28minput\u001b[39m: Tensor) \u001b[38;5;241m-\u001b[39m\u001b[38;5;241m>\u001b[39m Tensor:\n\u001b[1;32m--> 458\u001b[0m     \u001b[38;5;28;01mreturn\u001b[39;00m \u001b[38;5;28;43mself\u001b[39;49m\u001b[38;5;241;43m.\u001b[39;49m\u001b[43m_conv_forward\u001b[49m\u001b[43m(\u001b[49m\u001b[38;5;28;43minput\u001b[39;49m\u001b[43m,\u001b[49m\u001b[43m \u001b[49m\u001b[38;5;28;43mself\u001b[39;49m\u001b[38;5;241;43m.\u001b[39;49m\u001b[43mweight\u001b[49m\u001b[43m,\u001b[49m\u001b[43m \u001b[49m\u001b[38;5;28;43mself\u001b[39;49m\u001b[38;5;241;43m.\u001b[39;49m\u001b[43mbias\u001b[49m\u001b[43m)\u001b[49m\n",
      "File \u001b[1;32md:\\MIBI-TOFF\\mibivenv\\lib\\site-packages\\torch\\nn\\modules\\conv.py:454\u001b[0m, in \u001b[0;36mConv2d._conv_forward\u001b[1;34m(self, input, weight, bias)\u001b[0m\n\u001b[0;32m    450\u001b[0m \u001b[38;5;28;01mif\u001b[39;00m \u001b[38;5;28mself\u001b[39m\u001b[38;5;241m.\u001b[39mpadding_mode \u001b[38;5;241m!=\u001b[39m \u001b[38;5;124m'\u001b[39m\u001b[38;5;124mzeros\u001b[39m\u001b[38;5;124m'\u001b[39m:\n\u001b[0;32m    451\u001b[0m     \u001b[38;5;28;01mreturn\u001b[39;00m F\u001b[38;5;241m.\u001b[39mconv2d(F\u001b[38;5;241m.\u001b[39mpad(\u001b[38;5;28minput\u001b[39m, \u001b[38;5;28mself\u001b[39m\u001b[38;5;241m.\u001b[39m_reversed_padding_repeated_twice, mode\u001b[38;5;241m=\u001b[39m\u001b[38;5;28mself\u001b[39m\u001b[38;5;241m.\u001b[39mpadding_mode),\n\u001b[0;32m    452\u001b[0m                     weight, bias, \u001b[38;5;28mself\u001b[39m\u001b[38;5;241m.\u001b[39mstride,\n\u001b[0;32m    453\u001b[0m                     _pair(\u001b[38;5;241m0\u001b[39m), \u001b[38;5;28mself\u001b[39m\u001b[38;5;241m.\u001b[39mdilation, \u001b[38;5;28mself\u001b[39m\u001b[38;5;241m.\u001b[39mgroups)\n\u001b[1;32m--> 454\u001b[0m \u001b[38;5;28;01mreturn\u001b[39;00m \u001b[43mF\u001b[49m\u001b[38;5;241;43m.\u001b[39;49m\u001b[43mconv2d\u001b[49m\u001b[43m(\u001b[49m\u001b[38;5;28;43minput\u001b[39;49m\u001b[43m,\u001b[49m\u001b[43m \u001b[49m\u001b[43mweight\u001b[49m\u001b[43m,\u001b[49m\u001b[43m \u001b[49m\u001b[43mbias\u001b[49m\u001b[43m,\u001b[49m\u001b[43m \u001b[49m\u001b[38;5;28;43mself\u001b[39;49m\u001b[38;5;241;43m.\u001b[39;49m\u001b[43mstride\u001b[49m\u001b[43m,\u001b[49m\n\u001b[0;32m    455\u001b[0m \u001b[43m                \u001b[49m\u001b[38;5;28;43mself\u001b[39;49m\u001b[38;5;241;43m.\u001b[39;49m\u001b[43mpadding\u001b[49m\u001b[43m,\u001b[49m\u001b[43m \u001b[49m\u001b[38;5;28;43mself\u001b[39;49m\u001b[38;5;241;43m.\u001b[39;49m\u001b[43mdilation\u001b[49m\u001b[43m,\u001b[49m\u001b[43m \u001b[49m\u001b[38;5;28;43mself\u001b[39;49m\u001b[38;5;241;43m.\u001b[39;49m\u001b[43mgroups\u001b[49m\u001b[43m)\u001b[49m\n",
      "\u001b[1;31mRuntimeError\u001b[0m: Given groups=1, weight of size [768, 39, 16, 16], expected input[1, 40, 128, 128] to have 39 channels, but got 40 channels instead"
     ]
    }
   ],
   "source": [
    "import model_utils\n",
    "from mibi_vit import ViTBinaryClassifier\n",
    "model = ViTBinaryClassifier(img_size_x=128, img_size_y=128, in_channels=39, num_classes=2, patch_size_x=16, patch_size_y=16, embed_dim=768, num_heads=4, depth=6, mlp_dim=3072)\n",
    "criterion = torch.nn.CrossEntropyLoss()  # Define the classification criterion\n",
    "optimizer = torch.optim.Adam(model.parameters(), lr=0.001)  # Define the optimizer\n",
    "device = torch.device(\"cuda:0\" if torch.cuda.is_available() else \"cpu\")  # Set device to GPU (0)\n",
    "\n",
    "model_utils.train_model(model, train_loader, val_loader, criterion, optimizer, device, epochs=5)\n"
   ]
  }
 ],
 "metadata": {
  "kernelspec": {
   "display_name": "mibivenv",
   "language": "python",
   "name": "python3"
  },
  "language_info": {
   "codemirror_mode": {
    "name": "ipython",
    "version": 3
   },
   "file_extension": ".py",
   "mimetype": "text/x-python",
   "name": "python",
   "nbconvert_exporter": "python",
   "pygments_lexer": "ipython3",
   "version": "3.9.13"
  }
 },
 "nbformat": 4,
 "nbformat_minor": 2
}
