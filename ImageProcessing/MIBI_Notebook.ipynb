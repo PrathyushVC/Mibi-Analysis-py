{
 "cells": [
  {
   "cell_type": "code",
   "execution_count": 19,
   "metadata": {},
   "outputs": [
    {
     "name": "stdout",
     "output_type": "stream",
     "text": [
      "Requirement already satisfied: scikit-learn in d:\\mibi-toff\\mibivenv\\lib\\site-packages (1.3.2)\n",
      "Requirement already satisfied: numpy<2.0,>=1.17.3 in d:\\mibi-toff\\mibivenv\\lib\\site-packages (from scikit-learn) (1.26.0)\n",
      "Requirement already satisfied: scipy>=1.5.0 in d:\\mibi-toff\\mibivenv\\lib\\site-packages (from scikit-learn) (1.11.3)\n",
      "Requirement already satisfied: joblib>=1.1.1 in d:\\mibi-toff\\mibivenv\\lib\\site-packages (from scikit-learn) (1.3.2)\n",
      "Requirement already satisfied: threadpoolctl>=2.0.0 in d:\\mibi-toff\\mibivenv\\lib\\site-packages (from scikit-learn) (3.2.0)\n",
      "Note: you may need to restart the kernel to use updated packages.\n"
     ]
    }
   ],
   "source": [
    "#Needed installs\n",
    "#%pip install scikit-learn"
   ]
  },
  {
   "cell_type": "code",
   "execution_count": 35,
   "metadata": {},
   "outputs": [],
   "source": [
    "import polars as pl\n",
    "from MibiDataset import MibiDataset\n",
    "from sklearn.model_selection import train_test_split,GroupShuffleSplit\n",
    "from torchvision import transforms\n"
   ]
  },
  {
   "cell_type": "code",
   "execution_count": 28,
   "metadata": {},
   "outputs": [
    {
     "name": "stdout",
     "output_type": "stream",
     "text": [
      "['Unnamed: 0', 'cell_size', '128Te', '129Xe', '12C', '130Xe', '131Xe', '132Xe', '137Ba', '138Ba', '139La', '140Ce', '181Ta', '182Empty', '197Au', '23Na', '24Mg', '25Mg', '27Al', '28Si', '31P', '32Si', '39K', '40Ca', '41K', '56Fe', '64Zn', '66Zn', 'Alexa Fluor 488', 'Bax', 'CCR7', 'CD11c', 'CD14', 'CD163', 'CD20', 'CD206', 'CD21', 'CD3', 'CD31', 'CD4', 'CD45', 'CD45RA', 'CD45RO', 'CD56', 'CD68', 'CD69', 'CD8', 'COL1A1', 'DC-SIGN', 'Foxp3', 'Granzyme B', 'HLA-DR-DP-DQ', 'HLA-class-1-A-B-C', 'IDO-1', 'Ki67', 'LAG-3', 'MECA-79', 'MelanA', 'PD-1', 'S100A9-Calprotectin', 'SMA', 'SOX10', 'TCF1TCF7', 'TIM-3', 'Tox-Tox2', 'anti-Biotin', 'dsDNA', 'label', 'area', 'eccentricity', 'major_axis_length', 'minor_axis_length', 'perimeter', 'convex_area', 'equivalent_diameter', 'centroid-0', 'centroid-1', 'major_minor_axis_ratio', 'perim_square_over_area', 'major_axis_equiv_diam_ratio', 'convex_hull_resid', 'centroid_dif', 'num_concavities', 'fov', 'pred', 'pred_prob', 'class', 'score', 'spatial', 'Group', 'patient number']\n",
      "shape: (5, 5)\n",
      "┌───────┬────────┬─────────────┬───────┬────────────────┐\n",
      "│ label ┆ fov    ┆ pred        ┆ Group ┆ patient number │\n",
      "│ ---   ┆ ---    ┆ ---         ┆ ---   ┆ ---            │\n",
      "│ f64   ┆ str    ┆ str         ┆ str   ┆ i64            │\n",
      "╞═══════╪════════╪═════════════╪═══════╪════════════════╡\n",
      "│ 1.0   ┆ FOV400 ┆ CD4 APC     ┆ G4    ┆ 94             │\n",
      "│ 1.0   ┆ FOV380 ┆ B cell      ┆ G4    ┆ 117            │\n",
      "│ 1.0   ┆ FOV368 ┆ DC sign Mac ┆ G2    ┆ 46             │\n",
      "│ 1.0   ┆ FOV142 ┆ CD4 APC     ┆ G2    ┆ 45             │\n",
      "│ 1.0   ┆ FOV94  ┆ CD4 T cell  ┆ G4    ┆ 103            │\n",
      "└───────┴────────┴─────────────┴───────┴────────────────┘\n"
     ]
    }
   ],
   "source": [
    "full_cell_sheet=pl.read_csv(r\"D:\\MIBI-TOFF\\Data_For_Amos\\cleaned_expression_with_both_classification_prob_spatial_30_08_24.csv\")\n",
    "print(full_cell_sheet.columns)\n",
    "cell_frame = full_cell_sheet[['label', 'fov','pred','Group','patient number']]\n",
    "unique_fovs = cell_frame.unique(subset='fov')\n",
    "print(unique_fovs.head(5))\n"
   ]
  },
  {
   "cell_type": "code",
   "execution_count": 34,
   "metadata": {},
   "outputs": [
    {
     "name": "stdout",
     "output_type": "stream",
     "text": [
      "Training Set:\n",
      "shape: (5, 5)\n",
      "┌───────┬────────┬─────────────┬───────┬────────────────┐\n",
      "│ label ┆ fov    ┆ pred        ┆ Group ┆ patient number │\n",
      "│ ---   ┆ ---    ┆ ---         ┆ ---   ┆ ---            │\n",
      "│ f64   ┆ str    ┆ str         ┆ str   ┆ i64            │\n",
      "╞═══════╪════════╪═════════════╪═══════╪════════════════╡\n",
      "│ 1.0   ┆ FOV400 ┆ CD4 APC     ┆ G4    ┆ 94             │\n",
      "│ 1.0   ┆ FOV380 ┆ B cell      ┆ G4    ┆ 117            │\n",
      "│ 1.0   ┆ FOV368 ┆ DC sign Mac ┆ G2    ┆ 46             │\n",
      "│ 1.0   ┆ FOV142 ┆ CD4 APC     ┆ G2    ┆ 45             │\n",
      "│ 1.0   ┆ FOV94  ┆ CD4 T cell  ┆ G4    ┆ 103            │\n",
      "└───────┴────────┴─────────────┴───────┴────────────────┘\n",
      "\n",
      "Validation Set:\n",
      "shape: (5, 5)\n",
      "┌───────┬────────┬────────────────┬───────┬────────────────┐\n",
      "│ label ┆ fov    ┆ pred           ┆ Group ┆ patient number │\n",
      "│ ---   ┆ ---    ┆ ---            ┆ ---   ┆ ---            │\n",
      "│ f64   ┆ str    ┆ str            ┆ str   ┆ i64            │\n",
      "╞═══════╪════════╪════════════════╪═══════╪════════════════╡\n",
      "│ 1.0   ┆ FOV18  ┆ CD4 APC        ┆ G1    ┆ 5              │\n",
      "│ 1.0   ┆ FOV236 ┆ CD4 T cell     ┆ G1    ┆ 23             │\n",
      "│ 1.0   ┆ FOV372 ┆ CD14_CD11c_DCs ┆ G4    ┆ 110            │\n",
      "│ 1.0   ┆ FOV182 ┆ Unidentified   ┆ G4    ┆ 108            │\n",
      "│ 1.0   ┆ FOV46  ┆ CD8 T cell     ┆ G2    ┆ 37             │\n",
      "└───────┴────────┴────────────────┴───────┴────────────────┘\n"
     ]
    }
   ],
   "source": [
    "splitter=GroupShuffleSplit(n_splits=1, test_size=0.25, random_state=1995)\n",
    "for train_idx, val_idx in splitter.split(unique_fovs, groups=unique_fovs['patient number']):\n",
    "    train_data = unique_fovs[train_idx]\n",
    "    val_data = unique_fovs[val_idx]\n",
    "    print(\"Training Set:\")\n",
    "    print(train_data.head(5))\n",
    "    print(\"\\nValidation Set:\")\n",
    "    print(val_data.head(5))"
   ]
  },
  {
   "cell_type": "code",
   "execution_count": 36,
   "metadata": {},
   "outputs": [
    {
     "ename": "TypeError",
     "evalue": "reload() argument must be a module",
     "output_type": "error",
     "traceback": [
      "\u001b[1;31m---------------------------------------------------------------------------\u001b[0m",
      "\u001b[1;31mTypeError\u001b[0m                                 Traceback (most recent call last)",
      "Cell \u001b[1;32mIn[36], line 2\u001b[0m\n\u001b[0;32m      1\u001b[0m \u001b[38;5;28;01mimport\u001b[39;00m \u001b[38;5;21;01mimportlib\u001b[39;00m\n\u001b[1;32m----> 2\u001b[0m \u001b[43mimportlib\u001b[49m\u001b[38;5;241;43m.\u001b[39;49m\u001b[43mreload\u001b[49m\u001b[43m(\u001b[49m\u001b[43mMibiDataset\u001b[49m\u001b[43m)\u001b[49m\n\u001b[0;32m      3\u001b[0m \u001b[38;5;28;01mfrom\u001b[39;00m \u001b[38;5;21;01mMibiDataset\u001b[39;00m \u001b[38;5;28;01mimport\u001b[39;00m MibiDataset\n\u001b[0;32m      6\u001b[0m data_path\u001b[38;5;241m=\u001b[39m\u001b[38;5;124mr\u001b[39m\u001b[38;5;124m'\u001b[39m\u001b[38;5;124mD:\u001b[39m\u001b[38;5;124m\\\u001b[39m\u001b[38;5;124mMIBI-TOFF\u001b[39m\u001b[38;5;124m\\\u001b[39m\u001b[38;5;124mData_For_Amos\u001b[39m\u001b[38;5;124m'\u001b[39m\n",
      "File \u001b[1;32mC:\\Program Files\\WindowsApps\\PythonSoftwareFoundation.Python.3.9_3.9.3568.0_x64__qbz5n2kfra8p0\\lib\\importlib\\__init__.py:140\u001b[0m, in \u001b[0;36mreload\u001b[1;34m(module)\u001b[0m\n\u001b[0;32m    134\u001b[0m \u001b[38;5;250m\u001b[39m\u001b[38;5;124;03m\"\"\"Reload the module and return it.\u001b[39;00m\n\u001b[0;32m    135\u001b[0m \n\u001b[0;32m    136\u001b[0m \u001b[38;5;124;03mThe module must have been successfully imported before.\u001b[39;00m\n\u001b[0;32m    137\u001b[0m \n\u001b[0;32m    138\u001b[0m \u001b[38;5;124;03m\"\"\"\u001b[39;00m\n\u001b[0;32m    139\u001b[0m \u001b[38;5;28;01mif\u001b[39;00m \u001b[38;5;129;01mnot\u001b[39;00m module \u001b[38;5;129;01mor\u001b[39;00m \u001b[38;5;129;01mnot\u001b[39;00m \u001b[38;5;28misinstance\u001b[39m(module, types\u001b[38;5;241m.\u001b[39mModuleType):\n\u001b[1;32m--> 140\u001b[0m     \u001b[38;5;28;01mraise\u001b[39;00m \u001b[38;5;167;01mTypeError\u001b[39;00m(\u001b[38;5;124m\"\u001b[39m\u001b[38;5;124mreload() argument must be a module\u001b[39m\u001b[38;5;124m\"\u001b[39m)\n\u001b[0;32m    141\u001b[0m \u001b[38;5;28;01mtry\u001b[39;00m:\n\u001b[0;32m    142\u001b[0m     name \u001b[38;5;241m=\u001b[39m module\u001b[38;5;241m.\u001b[39m__spec__\u001b[38;5;241m.\u001b[39mname\n",
      "\u001b[1;31mTypeError\u001b[0m: reload() argument must be a module"
     ]
    }
   ],
   "source": [
    "import importlib\n",
    "importlib.reload(MibiDataset)\n",
    "from MibiDataset import MibiDataset\n",
    "\n",
    "\n",
    "data_path=r'D:\\MIBI-TOFF\\Data_For_Amos'\n",
    "dataset=MibiDataset(root_dir=data_path,df=train_data,prefix='FOV',fov_col='fov',label_col='Group', transform=None)"
   ]
  }
 ],
 "metadata": {
  "kernelspec": {
   "display_name": "mibivenv",
   "language": "python",
   "name": "python3"
  },
  "language_info": {
   "codemirror_mode": {
    "name": "ipython",
    "version": 3
   },
   "file_extension": ".py",
   "mimetype": "text/x-python",
   "name": "python",
   "nbconvert_exporter": "python",
   "pygments_lexer": "ipython3",
   "version": "3.9.13"
  }
 },
 "nbformat": 4,
 "nbformat_minor": 2
}
