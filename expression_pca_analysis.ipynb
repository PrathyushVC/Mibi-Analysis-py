{
 "cells": [
  {
   "cell_type": "code",
   "execution_count": 1,
   "metadata": {},
   "outputs": [],
   "source": [
    "# replicate previous study that visualized the cell type information for mibi toff data\n",
    "import os\n",
    "import csv\n",
    "import numpy as np\n",
    "import pandas as pd\n"
   ]
  },
  {
   "cell_type": "code",
   "execution_count": 2,
   "metadata": {},
   "outputs": [
    {
     "name": "stdout",
     "output_type": "stream",
     "text": [
      "   Unnamed: 0  cell_size     128Te     129Xe  12C     130Xe     131Xe  \\\n",
      "0           0       22.0  4.772296  5.298342  0.0  4.846394  5.040530   \n",
      "1           1       64.0  5.875641  5.910126  0.0  4.636036  5.830791   \n",
      "2           2       75.0  5.399690  6.469769  0.0  5.041314  6.284138   \n",
      "3           3       59.0  5.930317  5.874748  0.0  4.265500  5.511256   \n",
      "4           4      135.0  5.957570  5.918503  0.0  4.325043  5.804698   \n",
      "\n",
      "      132Xe     137Ba     138Ba  ...  centroid_dif  num_concavities   fov  \\\n",
      "0  5.465389  2.219161  2.903433  ...      0.000000              0.0  FOV2   \n",
      "1  6.095266  3.337921  3.337921  ...      0.010626              0.0  FOV2   \n",
      "2  6.423250  3.179785  3.814529  ...      0.005771              0.0  FOV2   \n",
      "3  5.999910  3.014948  2.612470  ...      0.015455              0.0  FOV2   \n",
      "4  6.006177  2.479528  3.389912  ...      0.009059              0.0  FOV2   \n",
      "\n",
      "            pred  pred_prob         class  score        spatial  Group  \\\n",
      "0    DC sign Mac   0.559885        immune    0.9  Outside tumor     G1   \n",
      "1  blood vessels   0.817718        immune    0.9  Outside tumor     G1   \n",
      "2   Unidentified   0.334893  Unidentified    0.9  Outside tumor     G1   \n",
      "3   Collagen_sma   0.897885        immune    0.9  Outside tumor     G1   \n",
      "4         B cell   0.998462        immune    0.9  Outside tumor     G1   \n",
      "\n",
      "   patient number  \n",
      "0               1  \n",
      "1               1  \n",
      "2               1  \n",
      "3               1  \n",
      "4               1  \n",
      "\n",
      "[5 rows x 91 columns]\n"
     ]
    }
   ],
   "source": [
    "#load data\n",
    "path_cell_summary=r\"D:\\MIBI-TOFF\\Data_For_Amos\\cleaned_expression_with_both_classification_prob_spatial_27_09_23.csv\"\n",
    "cell_sum=pd.read_csv(path_cell_summary)\n",
    "#remove columns that are not the proteins that we want as well as the numerical index of cell numbers\n",
    "columns_drop=[0]+list(range(2,28))\n",
    "filt_cell_sum=cell_sum.drop(columns=cell_sum.columns[columns_drop],axis=1)\n",
    "print(cell_sum.head())"
   ]
  },
  {
   "cell_type": "code",
   "execution_count": 3,
   "metadata": {},
   "outputs": [
    {
     "name": "stdout",
     "output_type": "stream",
     "text": [
      "Data types of all columns:\n",
      "object\n",
      "['DC sign Mac' 'blood vessels' 'Unidentified' 'Collagen_sma' 'B cell'\n",
      " 'CD4 APC' 'CD4 T cell' 'CD20_neg_B_cells' 'SMA' 'CD8 T cell' 'Mac'\n",
      " 'Collagen' 'Memory_CD4_T_Cells' 'CD206_Mac' 'Neutrophil' 'NK cell'\n",
      " 'Mono_CD14_DR' 'CD11_CD11c_DCsign_DCs' 'CD68_Mac' 'Hevs' 'CD4 Treg'\n",
      " 'CD14_CD11c_DCs' 'DCs' 'Follicular_Germinal_B_Cell' 'Tfh' 'Immune'\n",
      " 'tumor' 'CD3 only']\n"
     ]
    }
   ],
   "source": [
    "filt_cell_sum['pred'] = filt_cell_sum['pred'].astype(str)\n",
    "all_column_dtypes = filt_cell_sum['pred'].dtypes\n",
    "print(\"Data types of all columns:\")\n",
    "print(all_column_dtypes)\n",
    "unique_values = filt_cell_sum['pred'].unique()\n",
    "print(unique_values)"
   ]
  },
  {
   "cell_type": "code",
   "execution_count": 4,
   "metadata": {},
   "outputs": [
    {
     "name": "stdout",
     "output_type": "stream",
     "text": [
      "(1562914, 64)\n"
     ]
    }
   ],
   "source": [
    "#drop unknown and blood vessels and those counted as just immune\n",
    "filt_cell_sum=filt_cell_sum[(filt_cell_sum['pred'] != 'Unidentified')].dropna()\n",
    "filt_cell_sum=filt_cell_sum[(filt_cell_sum['pred'] != 'blood vessels')].dropna()\n",
    "filt_cell_sum=filt_cell_sum[(filt_cell_sum['pred'] != 'Immune')].dropna()\n",
    "filt_cell_sum=filt_cell_sum.dropna()\n",
    "print(filt_cell_sum.shape)\n",
    "\n"
   ]
  },
  {
   "cell_type": "code",
   "execution_count": 5,
   "metadata": {},
   "outputs": [
    {
     "name": "stdout",
     "output_type": "stream",
     "text": [
      "['DC sign Mac' 'Collagen_sma' 'B cell' ... 'tumor' 'tumor' 'tumor']\n",
      "CD4 T cell: 491864\n",
      "B cell: 319888\n",
      "Memory_CD4_T_Cells: 163469\n",
      "CD8 T cell: 156633\n",
      "Follicular_Germinal_B_Cell: 94592\n",
      "tumor: 40051\n",
      "Hevs: 39939\n",
      "CD20_neg_B_cells: 36075\n",
      "DC sign Mac: 28117\n",
      "CD4 APC: 25002\n",
      "Mono_CD14_DR: 24441\n",
      "Collagen_sma: 21914\n",
      "CD206_Mac: 21727\n",
      "CD4 Treg: 15799\n",
      "SMA: 14757\n",
      "Collagen: 13349\n",
      "Neutrophil: 12308\n",
      "Tfh: 12198\n",
      "DCs: 9086\n",
      "CD14_CD11c_DCs: 5995\n",
      "NK cell: 5619\n",
      "CD68_Mac: 4150\n",
      "Mac: 3538\n",
      "CD11_CD11c_DCsign_DCs: 1737\n",
      "CD3 only: 666\n",
      "Total Count: 1562914\n",
      "Tumor Cell ratio: {0.025625850174737702}\n"
     ]
    }
   ],
   "source": [
    "#trying to get the sum of each cell type\n",
    "from collections import Counter\n",
    "value_array = filt_cell_sum['pred'].to_numpy()\n",
    "print(value_array)\n",
    "\n",
    "count_dict = Counter(value_array)\n",
    "\n",
    "count_dict = dict(sorted(count_dict.items(), key=lambda item: item[1], reverse=True))\n",
    "\n",
    "for string, count in count_dict.items():\n",
    "    print(f'{string}: {count}')\n",
    "\n",
    "total_count = sum(count_dict.values())\n",
    "print(f'Total Count: {total_count}')\n",
    "\n",
    "print(f'Tumor Cell ratio:',{count_dict['tumor']/total_count})\n",
    "\n",
    "\n",
    "\n"
   ]
  },
  {
   "cell_type": "code",
   "execution_count": 6,
   "metadata": {},
   "outputs": [
    {
     "name": "stdout",
     "output_type": "stream",
     "text": [
      "['immune' 'immune' 'immune' ... 'tumor' 'tumor' 'tumor']\n",
      "immune: 1522863\n",
      "tumor: 40051\n",
      "Total Count: 1562914\n",
      "Tumor Cell ratio: {0.025625850174737702}\n"
     ]
    }
   ],
   "source": [
    "#varify tumor count\n",
    "value_array = filt_cell_sum['class'].to_numpy()\n",
    "print(value_array)\n",
    "\n",
    "count_dict = Counter(value_array)\n",
    "\n",
    "count_dict = dict(sorted(count_dict.items(), key=lambda item: item[1], reverse=True))\n",
    "\n",
    "for string, count in count_dict.items():\n",
    "    print(f'{string}: {count}')\n",
    "\n",
    "total_count = sum(count_dict.values())\n",
    "print(f'Total Count: {total_count}')\n",
    "\n",
    "print(f'Tumor Cell ratio:',{count_dict['tumor']/total_count})\n"
   ]
  },
  {
   "cell_type": "code",
   "execution_count": 7,
   "metadata": {},
   "outputs": [
    {
     "name": "stdout",
     "output_type": "stream",
     "text": [
      "   cell_size  Alexa Fluor 488  Bax  CCR7  CD11c  CD14  CD163      CD20  CD206  \\\n",
      "0       22.0              0.0  0.0   0.0    0.0   0.0    0.0  0.000000    0.0   \n",
      "3       59.0              0.0  0.0   0.0    0.0   0.0    0.0  0.000000    0.0   \n",
      "4      135.0              0.0  0.0   0.0    0.0   0.0    0.0  3.689504    0.0   \n",
      "5      139.0              0.0  0.0   0.0    0.0   0.0    0.0  0.000000    0.0   \n",
      "6      122.0              0.0  0.0   0.0    0.0   0.0    0.0  0.000000    0.0   \n",
      "\n",
      "   CD21  ...  convex_hull_resid  centroid_dif  num_concavities   fov  \\\n",
      "0   0.0  ...           0.000000      0.000000              0.0  FOV2   \n",
      "3   0.0  ...           0.032787      0.015455              0.0  FOV2   \n",
      "4   0.0  ...           0.028777      0.009059              0.0  FOV2   \n",
      "5   0.0  ...           0.034722      0.007883              0.0  FOV2   \n",
      "6   0.0  ...           0.008130      0.004532              0.0  FOV2   \n",
      "\n",
      "   pred_prob   class  score        spatial  Group  patient number  \n",
      "0   0.559885  immune    0.9  Outside tumor     G1               1  \n",
      "3   0.897885  immune    0.9  Outside tumor     G1               1  \n",
      "4   0.998462  immune    0.9  Outside tumor     G1               1  \n",
      "5   0.572560  immune    0.9  Outside tumor     G1               1  \n",
      "6   0.959286  immune    0.9  Outside tumor     G1               1  \n",
      "\n",
      "[5 rows x 63 columns]\n",
      "   cell_size  Alexa Fluor 488  Bax  CCR7  CD11c  CD14  CD163      CD20  CD206  \\\n",
      "0       22.0              0.0  0.0   0.0    0.0   0.0    0.0  0.000000    0.0   \n",
      "3       59.0              0.0  0.0   0.0    0.0   0.0    0.0  0.000000    0.0   \n",
      "4      135.0              0.0  0.0   0.0    0.0   0.0    0.0  3.689504    0.0   \n",
      "5      139.0              0.0  0.0   0.0    0.0   0.0    0.0  0.000000    0.0   \n",
      "6      122.0              0.0  0.0   0.0    0.0   0.0    0.0  0.000000    0.0   \n",
      "\n",
      "   CD21  ...  MelanA  PD-1  S100A9-Calprotectin       SMA  SOX10  TCF1TCF7  \\\n",
      "0   0.0  ...     0.0   0.0                  0.0  0.000000    0.0       0.0   \n",
      "3   0.0  ...     0.0   0.0                  0.0  4.111420    0.0       0.0   \n",
      "4   0.0  ...     0.0   0.0                  0.0  2.020227    0.0       0.0   \n",
      "5   0.0  ...     0.0   0.0                  0.0  4.626619    0.0       0.0   \n",
      "6   0.0  ...     0.0   0.0                  0.0  3.135247    0.0       0.0   \n",
      "\n",
      "   TIM-3  Tox-Tox2  anti-Biotin     dsDNA  \n",
      "0    0.0       0.0          0.0  5.673023  \n",
      "3    0.0       0.0          0.0  5.731650  \n",
      "4    0.0       0.0          0.0  6.603645  \n",
      "5    0.0       0.0          0.0  6.019841  \n",
      "6    0.0       0.0          0.0  5.703794  \n",
      "\n",
      "[5 rows x 40 columns]\n"
     ]
    }
   ],
   "source": [
    "X = filt_cell_sum.drop('pred', axis=1)  # Features\n",
    "y = filt_cell_sum['pred']  # Labels\n",
    "print(X.head())\n",
    "X_columns_drop = list(range(40, X.shape[1]))#These numbers are determined from the spread sheet after removing everything we wont use\n",
    "X.drop(columns=X.columns[X_columns_drop], axis=1, inplace=True)\n",
    "print(X.head())\n"
   ]
  },
  {
   "cell_type": "code",
   "execution_count": 8,
   "metadata": {},
   "outputs": [
    {
     "ename": "ModuleNotFoundError",
     "evalue": "No module named 'ipympl'",
     "output_type": "error",
     "traceback": [
      "\u001b[1;31m---------------------------------------------------------------------------\u001b[0m",
      "\u001b[1;31mModuleNotFoundError\u001b[0m                       Traceback (most recent call last)",
      "Cell \u001b[1;32mIn[8], line 2\u001b[0m\n\u001b[0;32m      1\u001b[0m \u001b[38;5;66;03m#Simple PCA analysis clearly to many variables and cell types to get a meaningful results. \u001b[39;00m\n\u001b[1;32m----> 2\u001b[0m \u001b[43mget_ipython\u001b[49m\u001b[43m(\u001b[49m\u001b[43m)\u001b[49m\u001b[38;5;241;43m.\u001b[39;49m\u001b[43mrun_line_magic\u001b[49m\u001b[43m(\u001b[49m\u001b[38;5;124;43m'\u001b[39;49m\u001b[38;5;124;43mmatplotlib\u001b[39;49m\u001b[38;5;124;43m'\u001b[39;49m\u001b[43m,\u001b[49m\u001b[43m \u001b[49m\u001b[38;5;124;43m'\u001b[39;49m\u001b[38;5;124;43mwidget\u001b[39;49m\u001b[38;5;124;43m'\u001b[39;49m\u001b[43m)\u001b[49m\n\u001b[0;32m      3\u001b[0m \u001b[38;5;28;01mfrom\u001b[39;00m \u001b[38;5;21;01msklearn\u001b[39;00m\u001b[38;5;21;01m.\u001b[39;00m\u001b[38;5;21;01mdecomposition\u001b[39;00m \u001b[38;5;28;01mimport\u001b[39;00m PCA\n\u001b[0;32m      4\u001b[0m \u001b[38;5;28;01mimport\u001b[39;00m \u001b[38;5;21;01mmatplotlib\u001b[39;00m\u001b[38;5;21;01m.\u001b[39;00m\u001b[38;5;21;01mpyplot\u001b[39;00m \u001b[38;5;28;01mas\u001b[39;00m \u001b[38;5;21;01mplt\u001b[39;00m\n",
      "File \u001b[1;32mD:\\MIBI-TOFF\\mibivenv\\lib\\site-packages\\IPython\\core\\interactiveshell.py:2432\u001b[0m, in \u001b[0;36mInteractiveShell.run_line_magic\u001b[1;34m(self, magic_name, line, _stack_depth)\u001b[0m\n\u001b[0;32m   2430\u001b[0m     kwargs[\u001b[38;5;124m'\u001b[39m\u001b[38;5;124mlocal_ns\u001b[39m\u001b[38;5;124m'\u001b[39m] \u001b[38;5;241m=\u001b[39m \u001b[38;5;28mself\u001b[39m\u001b[38;5;241m.\u001b[39mget_local_scope(stack_depth)\n\u001b[0;32m   2431\u001b[0m \u001b[38;5;28;01mwith\u001b[39;00m \u001b[38;5;28mself\u001b[39m\u001b[38;5;241m.\u001b[39mbuiltin_trap:\n\u001b[1;32m-> 2432\u001b[0m     result \u001b[38;5;241m=\u001b[39m fn(\u001b[38;5;241m*\u001b[39margs, \u001b[38;5;241m*\u001b[39m\u001b[38;5;241m*\u001b[39mkwargs)\n\u001b[0;32m   2434\u001b[0m \u001b[38;5;66;03m# The code below prevents the output from being displayed\u001b[39;00m\n\u001b[0;32m   2435\u001b[0m \u001b[38;5;66;03m# when using magics with decorator @output_can_be_silenced\u001b[39;00m\n\u001b[0;32m   2436\u001b[0m \u001b[38;5;66;03m# when the last Python token in the expression is a ';'.\u001b[39;00m\n\u001b[0;32m   2437\u001b[0m \u001b[38;5;28;01mif\u001b[39;00m \u001b[38;5;28mgetattr\u001b[39m(fn, magic\u001b[38;5;241m.\u001b[39mMAGIC_OUTPUT_CAN_BE_SILENCED, \u001b[38;5;28;01mFalse\u001b[39;00m):\n",
      "File \u001b[1;32mD:\\MIBI-TOFF\\mibivenv\\lib\\site-packages\\IPython\\core\\magics\\pylab.py:99\u001b[0m, in \u001b[0;36mPylabMagics.matplotlib\u001b[1;34m(self, line)\u001b[0m\n\u001b[0;32m     97\u001b[0m     \u001b[38;5;28mprint\u001b[39m(\u001b[38;5;124m\"\u001b[39m\u001b[38;5;124mAvailable matplotlib backends: \u001b[39m\u001b[38;5;132;01m%s\u001b[39;00m\u001b[38;5;124m\"\u001b[39m \u001b[38;5;241m%\u001b[39m backends_list)\n\u001b[0;32m     98\u001b[0m \u001b[38;5;28;01melse\u001b[39;00m:\n\u001b[1;32m---> 99\u001b[0m     gui, backend \u001b[38;5;241m=\u001b[39m \u001b[38;5;28;43mself\u001b[39;49m\u001b[38;5;241;43m.\u001b[39;49m\u001b[43mshell\u001b[49m\u001b[38;5;241;43m.\u001b[39;49m\u001b[43menable_matplotlib\u001b[49m\u001b[43m(\u001b[49m\u001b[43margs\u001b[49m\u001b[38;5;241;43m.\u001b[39;49m\u001b[43mgui\u001b[49m\u001b[38;5;241;43m.\u001b[39;49m\u001b[43mlower\u001b[49m\u001b[43m(\u001b[49m\u001b[43m)\u001b[49m\u001b[43m \u001b[49m\u001b[38;5;28;43;01mif\u001b[39;49;00m\u001b[43m \u001b[49m\u001b[38;5;28;43misinstance\u001b[39;49m\u001b[43m(\u001b[49m\u001b[43margs\u001b[49m\u001b[38;5;241;43m.\u001b[39;49m\u001b[43mgui\u001b[49m\u001b[43m,\u001b[49m\u001b[43m \u001b[49m\u001b[38;5;28;43mstr\u001b[39;49m\u001b[43m)\u001b[49m\u001b[43m \u001b[49m\u001b[38;5;28;43;01melse\u001b[39;49;00m\u001b[43m \u001b[49m\u001b[43margs\u001b[49m\u001b[38;5;241;43m.\u001b[39;49m\u001b[43mgui\u001b[49m\u001b[43m)\u001b[49m\n\u001b[0;32m    100\u001b[0m     \u001b[38;5;28mself\u001b[39m\u001b[38;5;241m.\u001b[39m_show_matplotlib_backend(args\u001b[38;5;241m.\u001b[39mgui, backend)\n",
      "File \u001b[1;32mD:\\MIBI-TOFF\\mibivenv\\lib\\site-packages\\IPython\\core\\interactiveshell.py:3621\u001b[0m, in \u001b[0;36mInteractiveShell.enable_matplotlib\u001b[1;34m(self, gui)\u001b[0m\n\u001b[0;32m   3617\u001b[0m         \u001b[38;5;28mprint\u001b[39m(\u001b[38;5;124m'\u001b[39m\u001b[38;5;124mWarning: Cannot change to a different GUI toolkit: \u001b[39m\u001b[38;5;132;01m%s\u001b[39;00m\u001b[38;5;124m.\u001b[39m\u001b[38;5;124m'\u001b[39m\n\u001b[0;32m   3618\u001b[0m                 \u001b[38;5;124m'\u001b[39m\u001b[38;5;124m Using \u001b[39m\u001b[38;5;132;01m%s\u001b[39;00m\u001b[38;5;124m instead.\u001b[39m\u001b[38;5;124m'\u001b[39m \u001b[38;5;241m%\u001b[39m (gui, \u001b[38;5;28mself\u001b[39m\u001b[38;5;241m.\u001b[39mpylab_gui_select))\n\u001b[0;32m   3619\u001b[0m         gui, backend \u001b[38;5;241m=\u001b[39m pt\u001b[38;5;241m.\u001b[39mfind_gui_and_backend(\u001b[38;5;28mself\u001b[39m\u001b[38;5;241m.\u001b[39mpylab_gui_select)\n\u001b[1;32m-> 3621\u001b[0m \u001b[43mpt\u001b[49m\u001b[38;5;241;43m.\u001b[39;49m\u001b[43mactivate_matplotlib\u001b[49m\u001b[43m(\u001b[49m\u001b[43mbackend\u001b[49m\u001b[43m)\u001b[49m\n\u001b[0;32m   3622\u001b[0m configure_inline_support(\u001b[38;5;28mself\u001b[39m, backend)\n\u001b[0;32m   3624\u001b[0m \u001b[38;5;66;03m# Now we must activate the gui pylab wants to use, and fix %run to take\u001b[39;00m\n\u001b[0;32m   3625\u001b[0m \u001b[38;5;66;03m# plot updates into account\u001b[39;00m\n",
      "File \u001b[1;32mD:\\MIBI-TOFF\\mibivenv\\lib\\site-packages\\IPython\\core\\pylabtools.py:368\u001b[0m, in \u001b[0;36mactivate_matplotlib\u001b[1;34m(backend)\u001b[0m\n\u001b[0;32m    363\u001b[0m \u001b[38;5;66;03m# Due to circular imports, pyplot may be only partially initialised\u001b[39;00m\n\u001b[0;32m    364\u001b[0m \u001b[38;5;66;03m# when this function runs.\u001b[39;00m\n\u001b[0;32m    365\u001b[0m \u001b[38;5;66;03m# So avoid needing matplotlib attribute-lookup to access pyplot.\u001b[39;00m\n\u001b[0;32m    366\u001b[0m \u001b[38;5;28;01mfrom\u001b[39;00m \u001b[38;5;21;01mmatplotlib\u001b[39;00m \u001b[38;5;28;01mimport\u001b[39;00m pyplot \u001b[38;5;28;01mas\u001b[39;00m plt\n\u001b[1;32m--> 368\u001b[0m \u001b[43mplt\u001b[49m\u001b[38;5;241;43m.\u001b[39;49m\u001b[43mswitch_backend\u001b[49m\u001b[43m(\u001b[49m\u001b[43mbackend\u001b[49m\u001b[43m)\u001b[49m\n\u001b[0;32m    370\u001b[0m plt\u001b[38;5;241m.\u001b[39mshow\u001b[38;5;241m.\u001b[39m_needmain \u001b[38;5;241m=\u001b[39m \u001b[38;5;28;01mFalse\u001b[39;00m\n\u001b[0;32m    371\u001b[0m \u001b[38;5;66;03m# We need to detect at runtime whether show() is called by the user.\u001b[39;00m\n\u001b[0;32m    372\u001b[0m \u001b[38;5;66;03m# For this, we wrap it into a decorator which adds a 'called' flag.\u001b[39;00m\n",
      "File \u001b[1;32mD:\\MIBI-TOFF\\mibivenv\\lib\\site-packages\\matplotlib\\pyplot.py:342\u001b[0m, in \u001b[0;36mswitch_backend\u001b[1;34m(newbackend)\u001b[0m\n\u001b[0;32m    339\u001b[0m \u001b[38;5;66;03m# have to escape the switch on access logic\u001b[39;00m\n\u001b[0;32m    340\u001b[0m old_backend \u001b[38;5;241m=\u001b[39m \u001b[38;5;28mdict\u001b[39m\u001b[38;5;241m.\u001b[39m\u001b[38;5;21m__getitem__\u001b[39m(rcParams, \u001b[38;5;124m'\u001b[39m\u001b[38;5;124mbackend\u001b[39m\u001b[38;5;124m'\u001b[39m)\n\u001b[1;32m--> 342\u001b[0m module \u001b[38;5;241m=\u001b[39m \u001b[43mimportlib\u001b[49m\u001b[38;5;241;43m.\u001b[39;49m\u001b[43mimport_module\u001b[49m\u001b[43m(\u001b[49m\u001b[43mcbook\u001b[49m\u001b[38;5;241;43m.\u001b[39;49m\u001b[43m_backend_module_name\u001b[49m\u001b[43m(\u001b[49m\u001b[43mnewbackend\u001b[49m\u001b[43m)\u001b[49m\u001b[43m)\u001b[49m\n\u001b[0;32m    343\u001b[0m canvas_class \u001b[38;5;241m=\u001b[39m module\u001b[38;5;241m.\u001b[39mFigureCanvas\n\u001b[0;32m    345\u001b[0m required_framework \u001b[38;5;241m=\u001b[39m canvas_class\u001b[38;5;241m.\u001b[39mrequired_interactive_framework\n",
      "File \u001b[1;32mC:\\Program Files\\WindowsApps\\PythonSoftwareFoundation.Python.3.9_3.9.3568.0_x64__qbz5n2kfra8p0\\lib\\importlib\\__init__.py:127\u001b[0m, in \u001b[0;36mimport_module\u001b[1;34m(name, package)\u001b[0m\n\u001b[0;32m    125\u001b[0m             \u001b[38;5;28;01mbreak\u001b[39;00m\n\u001b[0;32m    126\u001b[0m         level \u001b[38;5;241m+\u001b[39m\u001b[38;5;241m=\u001b[39m \u001b[38;5;241m1\u001b[39m\n\u001b[1;32m--> 127\u001b[0m \u001b[38;5;28;01mreturn\u001b[39;00m \u001b[43m_bootstrap\u001b[49m\u001b[38;5;241;43m.\u001b[39;49m\u001b[43m_gcd_import\u001b[49m\u001b[43m(\u001b[49m\u001b[43mname\u001b[49m\u001b[43m[\u001b[49m\u001b[43mlevel\u001b[49m\u001b[43m:\u001b[49m\u001b[43m]\u001b[49m\u001b[43m,\u001b[49m\u001b[43m \u001b[49m\u001b[43mpackage\u001b[49m\u001b[43m,\u001b[49m\u001b[43m \u001b[49m\u001b[43mlevel\u001b[49m\u001b[43m)\u001b[49m\n",
      "File \u001b[1;32m<frozen importlib._bootstrap>:1030\u001b[0m, in \u001b[0;36m_gcd_import\u001b[1;34m(name, package, level)\u001b[0m\n",
      "File \u001b[1;32m<frozen importlib._bootstrap>:1007\u001b[0m, in \u001b[0;36m_find_and_load\u001b[1;34m(name, import_)\u001b[0m\n",
      "File \u001b[1;32m<frozen importlib._bootstrap>:972\u001b[0m, in \u001b[0;36m_find_and_load_unlocked\u001b[1;34m(name, import_)\u001b[0m\n",
      "File \u001b[1;32m<frozen importlib._bootstrap>:228\u001b[0m, in \u001b[0;36m_call_with_frames_removed\u001b[1;34m(f, *args, **kwds)\u001b[0m\n",
      "File \u001b[1;32m<frozen importlib._bootstrap>:1030\u001b[0m, in \u001b[0;36m_gcd_import\u001b[1;34m(name, package, level)\u001b[0m\n",
      "File \u001b[1;32m<frozen importlib._bootstrap>:1007\u001b[0m, in \u001b[0;36m_find_and_load\u001b[1;34m(name, import_)\u001b[0m\n",
      "File \u001b[1;32m<frozen importlib._bootstrap>:984\u001b[0m, in \u001b[0;36m_find_and_load_unlocked\u001b[1;34m(name, import_)\u001b[0m\n",
      "\u001b[1;31mModuleNotFoundError\u001b[0m: No module named 'ipympl'"
     ]
    }
   ],
   "source": [
    "#Simple PCA analysis clearly to many variables and cell types to get a meaningful results. \n",
    "%matplotlib widget\n",
    "from sklearn.decomposition import PCA\n",
    "import matplotlib.pyplot as plt\n",
    "from mpl_toolkits.mplot3d import Axes3D\n",
    "\n",
    "pca = PCA(n_components=3)\n",
    "X_pca = pca.fit_transform(X)\n",
    "\n",
    "\n",
    "df_pca = pd.DataFrame(X_pca, columns=['PC1', 'PC2', 'PC3'])\n",
    "df_pca['pred'] = y\n",
    "\n",
    "fig = plt.figure(figsize=(10, 8))\n",
    "ax = fig.add_subplot(111, projection='3d')\n",
    "\n",
    "cmap = plt.get_cmap('viridis') \n",
    "\n",
    "unique_categories = df_pca['pred'].unique()\n",
    "colors = [cmap(i / len(unique_categories)) for i in range(len(unique_categories))]\n",
    "\n",
    "for category, color in zip(unique_categories, colors):\n",
    "    indices = df_pca['pred'] == category\n",
    "    ax.scatter(\n",
    "        df_pca.loc[indices, 'PC1'],\n",
    "        df_pca.loc[indices, 'PC2'],\n",
    "        df_pca.loc[indices, 'PC3'],\n",
    "        c=[color],\n",
    "        label=category\n",
    "    )\n",
    "\n",
    "ax.set_xlabel('PC1')\n",
    "ax.set_ylabel('PC2')\n",
    "ax.set_zlabel('PC3')\n",
    "ax.legend()\n",
    "\n",
    "plt.title('3D Scatter Plot with PCA')\n",
    "plt.show()"
   ]
  },
  {
   "cell_type": "code",
   "execution_count": null,
   "metadata": {},
   "outputs": [],
   "source": []
  }
 ],
 "metadata": {
  "kernelspec": {
   "display_name": "Python 3 (ipykernel)",
   "language": "python",
   "name": "python3"
  },
  "language_info": {
   "codemirror_mode": {
    "name": "ipython",
    "version": 3
   },
   "file_extension": ".py",
   "mimetype": "text/x-python",
   "name": "python",
   "nbconvert_exporter": "python",
   "pygments_lexer": "ipython3",
   "version": "3.9.13"
  }
 },
 "nbformat": 4,
 "nbformat_minor": 4
}
